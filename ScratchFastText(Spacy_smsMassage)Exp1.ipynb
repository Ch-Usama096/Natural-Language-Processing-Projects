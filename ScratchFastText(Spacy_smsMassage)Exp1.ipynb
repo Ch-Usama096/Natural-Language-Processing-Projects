{
  "cells": [
    {
      "cell_type": "code",
      "execution_count": 1,
      "metadata": {
        "colab": {
          "base_uri": "https://localhost:8080/"
        },
        "id": "qyAme-iKfrAo",
        "outputId": "1477ecc8-f9ce-40b8-b072-98b23e9e826c"
      },
      "outputs": [
        {
          "output_type": "stream",
          "name": "stdout",
          "text": [
            "Looking in indexes: https://pypi.org/simple, https://us-python.pkg.dev/colab-wheels/public/simple/\n",
            "Collecting fasttext\n",
            "  Downloading fasttext-0.9.2.tar.gz (68 kB)\n",
            "\u001b[2K     \u001b[90m━━━━━━━━━━━━━━━━━━━━━━━━━━━━━━━━━━━━━━━━\u001b[0m \u001b[32m68.8/68.8 KB\u001b[0m \u001b[31m4.1 MB/s\u001b[0m eta \u001b[36m0:00:00\u001b[0m\n",
            "\u001b[?25h  Preparing metadata (setup.py) ... \u001b[?25l\u001b[?25hdone\n",
            "Collecting pybind11>=2.2\n",
            "  Using cached pybind11-2.10.3-py3-none-any.whl (222 kB)\n",
            "Requirement already satisfied: setuptools>=0.7.0 in /usr/local/lib/python3.8/dist-packages (from fasttext) (57.4.0)\n",
            "Requirement already satisfied: numpy in /usr/local/lib/python3.8/dist-packages (from fasttext) (1.22.4)\n",
            "Building wheels for collected packages: fasttext\n",
            "  Building wheel for fasttext (setup.py) ... \u001b[?25l\u001b[?25hdone\n",
            "  Created wheel for fasttext: filename=fasttext-0.9.2-cp38-cp38-linux_x86_64.whl size=4397678 sha256=22a10eb8d11254bee7c28572865c7257082b5e86f59b91a8cfee3e9b5bfdcd35\n",
            "  Stored in directory: /root/.cache/pip/wheels/93/61/2a/c54711a91c418ba06ba195b1d78ff24fcaad8592f2a694ac94\n",
            "Successfully built fasttext\n",
            "Installing collected packages: pybind11, fasttext\n",
            "Successfully installed fasttext-0.9.2 pybind11-2.10.3\n"
          ]
        }
      ],
      "source": [
        "pip install fasttext"
      ],
      "id": "qyAme-iKfrAo"
    },
    {
      "cell_type": "code",
      "execution_count": 2,
      "metadata": {
        "collapsed": true,
        "id": "b0e7dd49"
      },
      "outputs": [],
      "source": [
        "import numpy as np\n",
        "import pandas as pd\n",
        "import seaborn as sns\n",
        "import matplotlib.pyplot as plt\n",
        "import spacy\n",
        "from spacy.lang.en.stop_words import STOP_WORDS\n",
        "from sklearn.model_selection import train_test_split\n",
        "import fasttext"
      ],
      "id": "b0e7dd49"
    },
    {
      "cell_type": "markdown",
      "metadata": {
        "id": "1dedc167"
      },
      "source": [
        "<b>Dataset"
      ],
      "id": "1dedc167"
    },
    {
      "cell_type": "code",
      "execution_count": null,
      "metadata": {
        "collapsed": true,
        "id": "61c72246"
      },
      "outputs": [],
      "source": [
        "# Read the Dataset\n",
        "dataset = pd.read_csv('spamMassages.csv')\n",
        "\n",
        "# Display the Data\n",
        "dataset.head(2)"
      ],
      "id": "61c72246"
    },
    {
      "cell_type": "code",
      "execution_count": null,
      "metadata": {
        "collapsed": true,
        "id": "8256e905"
      },
      "outputs": [],
      "source": [
        "# Display the Shape of the Dataset\n",
        "print('The Shape of the Dataset is : {}'.format(dataset.shape))"
      ],
      "id": "8256e905"
    },
    {
      "cell_type": "code",
      "execution_count": null,
      "metadata": {
        "collapsed": true,
        "id": "92c6be34"
      },
      "outputs": [],
      "source": [
        "# Find out the Missing Values in the Dataset\n",
        "nan_values = dataset.isnull().sum()\n",
        "print(nan_values)"
      ],
      "id": "92c6be34"
    },
    {
      "cell_type": "code",
      "execution_count": null,
      "metadata": {
        "collapsed": true,
        "id": "dbb768aa"
      },
      "outputs": [],
      "source": [
        "# Find out the Duplicated Data from Dataset\n",
        "dupData = dataset.duplicated().sum()\n",
        "print('Total Duplicated Row in the Dataset is : {}'.format(dupData))"
      ],
      "id": "dbb768aa"
    },
    {
      "cell_type": "code",
      "execution_count": null,
      "metadata": {
        "collapsed": true,
        "id": "3a025660"
      },
      "outputs": [],
      "source": [
        "# Drop the Duplicated Data from Dataset\n",
        "dataset.drop_duplicates(inplace = True)\n",
        "\n",
        "# Display the shape After drop the Duplicated Data\n",
        "print('Shape of the Dataset is : {}'.format(dataset.shape))"
      ],
      "id": "3a025660"
    },
    {
      "cell_type": "code",
      "execution_count": null,
      "metadata": {
        "collapsed": true,
        "id": "39db8d8d"
      },
      "outputs": [],
      "source": [
        "# Count the each class label\n",
        "classLabel = dataset['Category'].value_counts()\n",
        "print(classLabel)"
      ],
      "id": "39db8d8d"
    },
    {
      "cell_type": "markdown",
      "metadata": {
        "id": "061a7197"
      },
      "source": [
        "<b>Text Preprocessing"
      ],
      "id": "061a7197"
    },
    {
      "cell_type": "code",
      "execution_count": 9,
      "metadata": {
        "id": "8ee72cee"
      },
      "outputs": [],
      "source": [
        "# Load the Spacy Pre-Trained Model\n",
        "nlp = spacy.load('en_core_web_sm')"
      ],
      "id": "8ee72cee"
    },
    {
      "cell_type": "code",
      "execution_count": 10,
      "metadata": {
        "id": "6e92d2a0"
      },
      "outputs": [],
      "source": [
        "def textPreprocessing(text):\n",
        "    doc = nlp(text)\n",
        "    filterTokens = []\n",
        "    \n",
        "    for token in doc:\n",
        "        if token.like_num or token.is_stop or token.is_punct:\n",
        "            continue\n",
        "        filterTokens.append(token.lemma_.lower())\n",
        "    return (' '.join(filterTokens))"
      ],
      "id": "6e92d2a0"
    },
    {
      "cell_type": "code",
      "execution_count": 11,
      "metadata": {
        "id": "aa58535c"
      },
      "outputs": [],
      "source": [
        "# Now map the textPreprocessing funtion on Message Column\n",
        "dataset['cleanMessage'] = dataset['Message'].map(textPreprocessing)"
      ],
      "id": "aa58535c"
    },
    {
      "cell_type": "code",
      "execution_count": 12,
      "metadata": {
        "id": "57075d62"
      },
      "outputs": [],
      "source": [
        "def labelPreprocessing(text):\n",
        "    return ('__label__' + str(text))"
      ],
      "id": "57075d62"
    },
    {
      "cell_type": "code",
      "execution_count": 13,
      "metadata": {
        "id": "62f922a3"
      },
      "outputs": [],
      "source": [
        "# Now map the labelPreprocessing funtion on Category Column\n",
        "dataset['labelCategory'] = dataset['Category'].map(labelPreprocessing)"
      ],
      "id": "62f922a3"
    },
    {
      "cell_type": "code",
      "execution_count": 14,
      "metadata": {
        "id": "ce62c3d3"
      },
      "outputs": [],
      "source": [
        "# Now Join the labelCategory and cleanMessage\n",
        "dataset['cleanData'] = dataset['labelCategory'] + ' ' + dataset['cleanMessage']"
      ],
      "id": "ce62c3d3"
    },
    {
      "cell_type": "markdown",
      "metadata": {
        "id": "1fc22b29"
      },
      "source": [
        "<b>Split the Data into Training & Testing"
      ],
      "id": "1fc22b29"
    },
    {
      "cell_type": "code",
      "execution_count": 15,
      "metadata": {
        "id": "8479cc45",
        "outputId": "4f24fff1-e572-458b-c9aa-de28ddf80888",
        "colab": {
          "base_uri": "https://localhost:8080/"
        }
      },
      "outputs": [
        {
          "output_type": "stream",
          "name": "stdout",
          "text": [
            "The Shape of the Train is : (3867, 5)\n",
            "The Shape of the Test  is : (1290, 5)\n"
          ]
        }
      ],
      "source": [
        "# Split the Data into Training & Testing\n",
        "train , test = train_test_split(dataset , test_size = 0.25)\n",
        "\n",
        "# Display the Shape of the Train & Test Data\n",
        "print('The Shape of the Train is : {}'.format(train.shape))\n",
        "print('The Shape of the Test  is : {}'.format(test.shape))"
      ],
      "id": "8479cc45"
    },
    {
      "cell_type": "markdown",
      "metadata": {
        "id": "347f9be4"
      },
      "source": [
        "<b>Implementation FastText Model"
      ],
      "id": "347f9be4"
    },
    {
      "cell_type": "code",
      "execution_count": 16,
      "metadata": {
        "id": "d6460693"
      },
      "outputs": [],
      "source": [
        "train.to_csv('trainMessage.txt' ,  columns = ['cleanData'] , header = None , index = False)\n",
        "test.to_csv('testMessage.txt'   ,  columns = ['cleanData'] , header = None , index = False)"
      ],
      "id": "d6460693"
    },
    {
      "cell_type": "code",
      "source": [
        "# Now Train the FastText Model\n",
        "model = fasttext.train_supervised('trainMessage.txt')\n",
        "model.test('testMessage.txt')"
      ],
      "metadata": {
        "colab": {
          "base_uri": "https://localhost:8080/"
        },
        "id": "qryzdGDqlRj-",
        "outputId": "fe193d5d-16ef-47b7-d22f-1f0025365b2a"
      },
      "id": "qryzdGDqlRj-",
      "execution_count": 17,
      "outputs": [
        {
          "output_type": "execute_result",
          "data": {
            "text/plain": [
              "(1281, 0.9804839968774395, 0.9804839968774395)"
            ]
          },
          "metadata": {},
          "execution_count": 17
        }
      ]
    },
    {
      "cell_type": "markdown",
      "source": [
        "<b>Let's find out some prediction Results"
      ],
      "metadata": {
        "id": "MVZmMuP5lmme"
      },
      "id": "MVZmMuP5lmme"
    },
    {
      "cell_type": "code",
      "source": [
        "model.predict('sure night menu know noon menu')"
      ],
      "metadata": {
        "colab": {
          "base_uri": "https://localhost:8080/"
        },
        "id": "vPeFQG3dlj3A",
        "outputId": "f08c7542-3858-4f69-c319-e6044a7868d9"
      },
      "id": "vPeFQG3dlj3A",
      "execution_count": 18,
      "outputs": [
        {
          "output_type": "execute_result",
          "data": {
            "text/plain": [
              "(('__label__ham',), array([0.99678051]))"
            ]
          },
          "metadata": {},
          "execution_count": 18
        }
      ]
    },
    {
      "cell_type": "code",
      "source": [
        "model.predict('look building coat want sick hurry home wear coat gym')"
      ],
      "metadata": {
        "colab": {
          "base_uri": "https://localhost:8080/"
        },
        "id": "-XkSPQe-lyka",
        "outputId": "ad104e59-c64e-414f-9e26-7cfb113c4c13"
      },
      "id": "-XkSPQe-lyka",
      "execution_count": 19,
      "outputs": [
        {
          "output_type": "execute_result",
          "data": {
            "text/plain": [
              "(('__label__ham',), array([0.99227649]))"
            ]
          },
          "metadata": {},
          "execution_count": 19
        }
      ]
    },
    {
      "cell_type": "code",
      "source": [
        "model.predict('lose £ help')"
      ],
      "metadata": {
        "colab": {
          "base_uri": "https://localhost:8080/"
        },
        "id": "hjEm8aUKl5ds",
        "outputId": "74336a9f-bd88-45ba-82f2-681e80cd1bee"
      },
      "id": "hjEm8aUKl5ds",
      "execution_count": 20,
      "outputs": [
        {
          "output_type": "execute_result",
          "data": {
            "text/plain": [
              "(('__label__spam',), array([0.99570006]))"
            ]
          },
          "metadata": {},
          "execution_count": 20
        }
      ]
    },
    {
      "cell_type": "code",
      "source": [
        "model.predict('today voda number end select receive £ reward match quote claim code standard rate apply')"
      ],
      "metadata": {
        "colab": {
          "base_uri": "https://localhost:8080/"
        },
        "id": "pyRhdlG8l_Ae",
        "outputId": "94f18860-920e-4ffc-eb89-a47d7f9a3581"
      },
      "id": "pyRhdlG8l_Ae",
      "execution_count": 21,
      "outputs": [
        {
          "output_type": "execute_result",
          "data": {
            "text/plain": [
              "(('__label__spam',), array([0.9876157]))"
            ]
          },
          "metadata": {},
          "execution_count": 21
        }
      ]
    },
    {
      "cell_type": "markdown",
      "source": [
        "<b>Fasttext Important Function"
      ],
      "metadata": {
        "id": "uZv1uDFRmJnE"
      },
      "id": "uZv1uDFRmJnE"
    },
    {
      "cell_type": "code",
      "source": [
        "# find out Similar Words\n",
        "model.get_nearest_neighbors('receive')"
      ],
      "metadata": {
        "id": "-6n9-FiXmF4Y"
      },
      "id": "-6n9-FiXmF4Y",
      "execution_count": null,
      "outputs": []
    },
    {
      "cell_type": "code",
      "source": [
        "# Get the Vector of Spacific word\n",
        "receiveVec = model.get_word_vector('receive')\n",
        "print(receiveVec)"
      ],
      "metadata": {
        "id": "iAaHn4NJmYTw"
      },
      "id": "iAaHn4NJmYTw",
      "execution_count": null,
      "outputs": []
    },
    {
      "cell_type": "code",
      "source": [
        "# Display the Shape of the Vector\n",
        "print('The shape of the Word Vector is : {}'.format(receiveVec.shape))"
      ],
      "metadata": {
        "colab": {
          "base_uri": "https://localhost:8080/"
        },
        "id": "LR2X7MkCnOuw",
        "outputId": "e6e1fbc2-c0b5-417e-baf6-bc7df4e473d5"
      },
      "id": "LR2X7MkCnOuw",
      "execution_count": 24,
      "outputs": [
        {
          "output_type": "stream",
          "name": "stdout",
          "text": [
            "The shape of the Word Vector is : (100,)\n"
          ]
        }
      ]
    },
    {
      "cell_type": "code",
      "source": [
        "# Find the Word base on 2 Word Relation\n",
        "model.get_analogies('massage' , 'human' , 'call')"
      ],
      "metadata": {
        "id": "5rCnl6MqnZol"
      },
      "id": "5rCnl6MqnZol",
      "execution_count": null,
      "outputs": []
    }
  ],
  "metadata": {
    "accelerator": "GPU",
    "colab": {
      "provenance": []
    },
    "gpuClass": "standard",
    "kernelspec": {
      "display_name": "Python 3 (ipykernel)",
      "language": "python",
      "name": "python3"
    },
    "language_info": {
      "codemirror_mode": {
        "name": "ipython",
        "version": 3
      },
      "file_extension": ".py",
      "mimetype": "text/x-python",
      "name": "python",
      "nbconvert_exporter": "python",
      "pygments_lexer": "ipython3",
      "version": "3.9.12"
    }
  },
  "nbformat": 4,
  "nbformat_minor": 5
}