{
  "cells": [
    {
      "cell_type": "code",
      "source": [
        "# Install the fasttext\n",
        "pip install fasttext"
      ],
      "metadata": {
        "id": "rtkkglzmNZYK"
      },
      "id": "rtkkglzmNZYK",
      "execution_count": null,
      "outputs": []
    },
    {
      "cell_type": "code",
      "execution_count": null,
      "id": "248a347c",
      "metadata": {
        "id": "248a347c"
      },
      "outputs": [],
      "source": [
        "import numpy as np\n",
        "import pandas as pd\n",
        "import seaborn as sns\n",
        "import matplotlib.pyplot as plt\n",
        "import fasttext\n",
        "import spacy\n",
        "from spacy.lang.en.stop_words import STOP_WORDS\n",
        "from sklearn.model_selection import train_test_split"
      ]
    },
    {
      "cell_type": "markdown",
      "id": "def7ad32",
      "metadata": {
        "id": "def7ad32"
      },
      "source": [
        "<b> Dataset "
      ]
    },
    {
      "cell_type": "code",
      "execution_count": null,
      "id": "ebb130a1",
      "metadata": {
        "colab": {
          "base_uri": "https://localhost:8080/",
          "height": 112
        },
        "id": "ebb130a1",
        "outputId": "91c08679-9e7b-4327-ad97-ef26e9e26937"
      },
      "outputs": [
        {
          "output_type": "execute_result",
          "data": {
            "text/plain": [
              "    Category                                        Description\n",
              "0  Household  Paper Plane Design Framed Wall Hanging Motivat...\n",
              "1  Household  SAF 'Floral' Framed Painting (Wood, 30 inch x ..."
            ],
            "text/html": [
              "\n",
              "  <div id=\"df-7b869842-6b3d-4c81-94d4-df713ad4812e\">\n",
              "    <div class=\"colab-df-container\">\n",
              "      <div>\n",
              "<style scoped>\n",
              "    .dataframe tbody tr th:only-of-type {\n",
              "        vertical-align: middle;\n",
              "    }\n",
              "\n",
              "    .dataframe tbody tr th {\n",
              "        vertical-align: top;\n",
              "    }\n",
              "\n",
              "    .dataframe thead th {\n",
              "        text-align: right;\n",
              "    }\n",
              "</style>\n",
              "<table border=\"1\" class=\"dataframe\">\n",
              "  <thead>\n",
              "    <tr style=\"text-align: right;\">\n",
              "      <th></th>\n",
              "      <th>Category</th>\n",
              "      <th>Description</th>\n",
              "    </tr>\n",
              "  </thead>\n",
              "  <tbody>\n",
              "    <tr>\n",
              "      <th>0</th>\n",
              "      <td>Household</td>\n",
              "      <td>Paper Plane Design Framed Wall Hanging Motivat...</td>\n",
              "    </tr>\n",
              "    <tr>\n",
              "      <th>1</th>\n",
              "      <td>Household</td>\n",
              "      <td>SAF 'Floral' Framed Painting (Wood, 30 inch x ...</td>\n",
              "    </tr>\n",
              "  </tbody>\n",
              "</table>\n",
              "</div>\n",
              "      <button class=\"colab-df-convert\" onclick=\"convertToInteractive('df-7b869842-6b3d-4c81-94d4-df713ad4812e')\"\n",
              "              title=\"Convert this dataframe to an interactive table.\"\n",
              "              style=\"display:none;\">\n",
              "        \n",
              "  <svg xmlns=\"http://www.w3.org/2000/svg\" height=\"24px\"viewBox=\"0 0 24 24\"\n",
              "       width=\"24px\">\n",
              "    <path d=\"M0 0h24v24H0V0z\" fill=\"none\"/>\n",
              "    <path d=\"M18.56 5.44l.94 2.06.94-2.06 2.06-.94-2.06-.94-.94-2.06-.94 2.06-2.06.94zm-11 1L8.5 8.5l.94-2.06 2.06-.94-2.06-.94L8.5 2.5l-.94 2.06-2.06.94zm10 10l.94 2.06.94-2.06 2.06-.94-2.06-.94-.94-2.06-.94 2.06-2.06.94z\"/><path d=\"M17.41 7.96l-1.37-1.37c-.4-.4-.92-.59-1.43-.59-.52 0-1.04.2-1.43.59L10.3 9.45l-7.72 7.72c-.78.78-.78 2.05 0 2.83L4 21.41c.39.39.9.59 1.41.59.51 0 1.02-.2 1.41-.59l7.78-7.78 2.81-2.81c.8-.78.8-2.07 0-2.86zM5.41 20L4 18.59l7.72-7.72 1.47 1.35L5.41 20z\"/>\n",
              "  </svg>\n",
              "      </button>\n",
              "      \n",
              "  <style>\n",
              "    .colab-df-container {\n",
              "      display:flex;\n",
              "      flex-wrap:wrap;\n",
              "      gap: 12px;\n",
              "    }\n",
              "\n",
              "    .colab-df-convert {\n",
              "      background-color: #E8F0FE;\n",
              "      border: none;\n",
              "      border-radius: 50%;\n",
              "      cursor: pointer;\n",
              "      display: none;\n",
              "      fill: #1967D2;\n",
              "      height: 32px;\n",
              "      padding: 0 0 0 0;\n",
              "      width: 32px;\n",
              "    }\n",
              "\n",
              "    .colab-df-convert:hover {\n",
              "      background-color: #E2EBFA;\n",
              "      box-shadow: 0px 1px 2px rgba(60, 64, 67, 0.3), 0px 1px 3px 1px rgba(60, 64, 67, 0.15);\n",
              "      fill: #174EA6;\n",
              "    }\n",
              "\n",
              "    [theme=dark] .colab-df-convert {\n",
              "      background-color: #3B4455;\n",
              "      fill: #D2E3FC;\n",
              "    }\n",
              "\n",
              "    [theme=dark] .colab-df-convert:hover {\n",
              "      background-color: #434B5C;\n",
              "      box-shadow: 0px 1px 3px 1px rgba(0, 0, 0, 0.15);\n",
              "      filter: drop-shadow(0px 1px 2px rgba(0, 0, 0, 0.3));\n",
              "      fill: #FFFFFF;\n",
              "    }\n",
              "  </style>\n",
              "\n",
              "      <script>\n",
              "        const buttonEl =\n",
              "          document.querySelector('#df-7b869842-6b3d-4c81-94d4-df713ad4812e button.colab-df-convert');\n",
              "        buttonEl.style.display =\n",
              "          google.colab.kernel.accessAllowed ? 'block' : 'none';\n",
              "\n",
              "        async function convertToInteractive(key) {\n",
              "          const element = document.querySelector('#df-7b869842-6b3d-4c81-94d4-df713ad4812e');\n",
              "          const dataTable =\n",
              "            await google.colab.kernel.invokeFunction('convertToInteractive',\n",
              "                                                     [key], {});\n",
              "          if (!dataTable) return;\n",
              "\n",
              "          const docLinkHtml = 'Like what you see? Visit the ' +\n",
              "            '<a target=\"_blank\" href=https://colab.research.google.com/notebooks/data_table.ipynb>data table notebook</a>'\n",
              "            + ' to learn more about interactive tables.';\n",
              "          element.innerHTML = '';\n",
              "          dataTable['output_type'] = 'display_data';\n",
              "          await google.colab.output.renderOutput(dataTable, element);\n",
              "          const docLink = document.createElement('div');\n",
              "          docLink.innerHTML = docLinkHtml;\n",
              "          element.appendChild(docLink);\n",
              "        }\n",
              "      </script>\n",
              "    </div>\n",
              "  </div>\n",
              "  "
            ]
          },
          "metadata": {},
          "execution_count": 5
        }
      ],
      "source": [
        "# Read the Dataset\n",
        "dataset = pd.read_csv('ecommerceDataset.csv' , names = ['Category' , 'Description'] , header = None)\n",
        "\n",
        "# Display the Data \n",
        "dataset.head(2)"
      ]
    },
    {
      "cell_type": "code",
      "execution_count": null,
      "id": "8ba99747",
      "metadata": {
        "id": "8ba99747"
      },
      "outputs": [],
      "source": [
        "# Display the Shape of the Dataset\n",
        "print('The Shape of the Dataset is : {}'.format(dataset.shape))"
      ]
    },
    {
      "cell_type": "code",
      "execution_count": null,
      "id": "410b713e",
      "metadata": {
        "id": "410b713e"
      },
      "outputs": [],
      "source": [
        "# Find out the Missing Values in the Dataset\n",
        "nan_values = dataset.isnull().sum()\n",
        "print(nan_values)"
      ]
    },
    {
      "cell_type": "code",
      "execution_count": null,
      "id": "1f8e1a06",
      "metadata": {
        "id": "1f8e1a06"
      },
      "outputs": [],
      "source": [
        "# Drop Nan Values in the Dataset\n",
        "dataset.dropna(inplace = True)\n",
        "\n",
        "# Display the Shape of the Dataset\n",
        "print('The Shape of the Dataset is : {}'.format(dataset.shape))"
      ]
    },
    {
      "cell_type": "code",
      "execution_count": null,
      "id": "35d0c8f4",
      "metadata": {
        "id": "35d0c8f4"
      },
      "outputs": [],
      "source": [
        "# Find out the Duplicate Row \n",
        "dupRow = dataset.duplicated().sum()\n",
        "print('Total Duplicated Row in the Dataset is : {}'.format(dupRow))"
      ]
    },
    {
      "cell_type": "code",
      "execution_count": null,
      "id": "b8fb0ae5",
      "metadata": {
        "id": "b8fb0ae5"
      },
      "outputs": [],
      "source": [
        "# Remove the Duplicated Row\n",
        "dataset.drop_duplicates(inplace = True)\n",
        "\n",
        "# Display the Shape of the Dataset\n",
        "print('The Shape of the Dataset is : {}'.format(dataset.shape))"
      ]
    },
    {
      "cell_type": "code",
      "execution_count": null,
      "id": "5065cecb",
      "metadata": {
        "id": "5065cecb"
      },
      "outputs": [],
      "source": [
        "# Find out the Count of Each Class\n",
        "countValues = dataset['Category'].value_counts()\n",
        "print(countValues)"
      ]
    },
    {
      "cell_type": "code",
      "execution_count": null,
      "id": "7261c522",
      "metadata": {
        "id": "7261c522"
      },
      "outputs": [],
      "source": [
        "# Replace the Class Label (Clothing & Accessories)\n",
        "dataset['Category'].replace('Clothing & Accessories' , 'Clothing_Accessories' , inplace = True)\n",
        "\n",
        "# Now Find out the Count of Each Class\n",
        "countValues = dataset['Category'].value_counts()\n",
        "print(countValues)"
      ]
    },
    {
      "cell_type": "markdown",
      "id": "0230b39d",
      "metadata": {
        "id": "0230b39d"
      },
      "source": [
        "<b>Text Pre-processing"
      ]
    },
    {
      "cell_type": "code",
      "execution_count": null,
      "id": "56aad421",
      "metadata": {
        "id": "56aad421"
      },
      "outputs": [],
      "source": [
        "# Import the Spacy Pre-trained English Model\n",
        "nlp = spacy.load('en_core_web_sm')"
      ]
    },
    {
      "cell_type": "code",
      "execution_count": null,
      "id": "df88b0e5",
      "metadata": {
        "id": "df88b0e5"
      },
      "outputs": [],
      "source": [
        "def text_preprocessing(text):\n",
        "    doc = nlp(text)\n",
        "    filterTokens = []\n",
        "    for token in doc:\n",
        "        if token.like_num or token.is_stop or token.is_punct:\n",
        "            continue\n",
        "        filterTokens.append(token.lemma_.lower())\n",
        "    return(' '.join(filterTokens))"
      ]
    },
    {
      "cell_type": "code",
      "execution_count": null,
      "id": "cbe210f0",
      "metadata": {
        "id": "cbe210f0"
      },
      "outputs": [],
      "source": [
        "# Apply the text Preprocessing Function on the Description Function\n",
        "dataset['cleanDescription'] = dataset['Description'].map(text_preprocessing)"
      ]
    },
    {
      "cell_type": "code",
      "execution_count": null,
      "id": "58d978a7",
      "metadata": {
        "id": "58d978a7"
      },
      "outputs": [],
      "source": [
        "def label_preprocessing(label):\n",
        "    return('__label__' + label)"
      ]
    },
    {
      "cell_type": "code",
      "execution_count": null,
      "id": "9f0a919f",
      "metadata": {
        "id": "9f0a919f"
      },
      "outputs": [],
      "source": [
        "# Apply the text Preprocessing Function on the Description Function\n",
        "dataset['labelCategory'] = dataset['Category'].map(label_preprocessing)"
      ]
    },
    {
      "cell_type": "code",
      "execution_count": 34,
      "id": "f9cb9254",
      "metadata": {
        "id": "f9cb9254",
        "colab": {
          "base_uri": "https://localhost:8080/",
          "height": 190
        },
        "outputId": "18a8da13-681f-400a-f68a-3efc33432f32"
      },
      "outputs": [
        {
          "output_type": "execute_result",
          "data": {
            "text/plain": [
              "    Category                                        Description  \\\n",
              "0  Household  Paper Plane Design Framed Wall Hanging Motivat...   \n",
              "1  Household  SAF 'Floral' Framed Painting (Wood, 30 inch x ...   \n",
              "\n",
              "                                    cleanDescription       labelCategory  \\\n",
              "0  paper plane design framed wall hanging motivat...  __label__Household   \n",
              "1  saf floral framed painting wood inch x inch sp...  __label__Household   \n",
              "\n",
              "                                 categoryDescription  \n",
              "0  __label__Household paper plane design framed w...  \n",
              "1  __label__Household saf floral framed painting ...  "
            ],
            "text/html": [
              "\n",
              "  <div id=\"df-e1e487d6-650b-4ce4-807c-fd0e5dcb1cb2\">\n",
              "    <div class=\"colab-df-container\">\n",
              "      <div>\n",
              "<style scoped>\n",
              "    .dataframe tbody tr th:only-of-type {\n",
              "        vertical-align: middle;\n",
              "    }\n",
              "\n",
              "    .dataframe tbody tr th {\n",
              "        vertical-align: top;\n",
              "    }\n",
              "\n",
              "    .dataframe thead th {\n",
              "        text-align: right;\n",
              "    }\n",
              "</style>\n",
              "<table border=\"1\" class=\"dataframe\">\n",
              "  <thead>\n",
              "    <tr style=\"text-align: right;\">\n",
              "      <th></th>\n",
              "      <th>Category</th>\n",
              "      <th>Description</th>\n",
              "      <th>cleanDescription</th>\n",
              "      <th>labelCategory</th>\n",
              "      <th>categoryDescription</th>\n",
              "    </tr>\n",
              "  </thead>\n",
              "  <tbody>\n",
              "    <tr>\n",
              "      <th>0</th>\n",
              "      <td>Household</td>\n",
              "      <td>Paper Plane Design Framed Wall Hanging Motivat...</td>\n",
              "      <td>paper plane design framed wall hanging motivat...</td>\n",
              "      <td>__label__Household</td>\n",
              "      <td>__label__Household paper plane design framed w...</td>\n",
              "    </tr>\n",
              "    <tr>\n",
              "      <th>1</th>\n",
              "      <td>Household</td>\n",
              "      <td>SAF 'Floral' Framed Painting (Wood, 30 inch x ...</td>\n",
              "      <td>saf floral framed painting wood inch x inch sp...</td>\n",
              "      <td>__label__Household</td>\n",
              "      <td>__label__Household saf floral framed painting ...</td>\n",
              "    </tr>\n",
              "  </tbody>\n",
              "</table>\n",
              "</div>\n",
              "      <button class=\"colab-df-convert\" onclick=\"convertToInteractive('df-e1e487d6-650b-4ce4-807c-fd0e5dcb1cb2')\"\n",
              "              title=\"Convert this dataframe to an interactive table.\"\n",
              "              style=\"display:none;\">\n",
              "        \n",
              "  <svg xmlns=\"http://www.w3.org/2000/svg\" height=\"24px\"viewBox=\"0 0 24 24\"\n",
              "       width=\"24px\">\n",
              "    <path d=\"M0 0h24v24H0V0z\" fill=\"none\"/>\n",
              "    <path d=\"M18.56 5.44l.94 2.06.94-2.06 2.06-.94-2.06-.94-.94-2.06-.94 2.06-2.06.94zm-11 1L8.5 8.5l.94-2.06 2.06-.94-2.06-.94L8.5 2.5l-.94 2.06-2.06.94zm10 10l.94 2.06.94-2.06 2.06-.94-2.06-.94-.94-2.06-.94 2.06-2.06.94z\"/><path d=\"M17.41 7.96l-1.37-1.37c-.4-.4-.92-.59-1.43-.59-.52 0-1.04.2-1.43.59L10.3 9.45l-7.72 7.72c-.78.78-.78 2.05 0 2.83L4 21.41c.39.39.9.59 1.41.59.51 0 1.02-.2 1.41-.59l7.78-7.78 2.81-2.81c.8-.78.8-2.07 0-2.86zM5.41 20L4 18.59l7.72-7.72 1.47 1.35L5.41 20z\"/>\n",
              "  </svg>\n",
              "      </button>\n",
              "      \n",
              "  <style>\n",
              "    .colab-df-container {\n",
              "      display:flex;\n",
              "      flex-wrap:wrap;\n",
              "      gap: 12px;\n",
              "    }\n",
              "\n",
              "    .colab-df-convert {\n",
              "      background-color: #E8F0FE;\n",
              "      border: none;\n",
              "      border-radius: 50%;\n",
              "      cursor: pointer;\n",
              "      display: none;\n",
              "      fill: #1967D2;\n",
              "      height: 32px;\n",
              "      padding: 0 0 0 0;\n",
              "      width: 32px;\n",
              "    }\n",
              "\n",
              "    .colab-df-convert:hover {\n",
              "      background-color: #E2EBFA;\n",
              "      box-shadow: 0px 1px 2px rgba(60, 64, 67, 0.3), 0px 1px 3px 1px rgba(60, 64, 67, 0.15);\n",
              "      fill: #174EA6;\n",
              "    }\n",
              "\n",
              "    [theme=dark] .colab-df-convert {\n",
              "      background-color: #3B4455;\n",
              "      fill: #D2E3FC;\n",
              "    }\n",
              "\n",
              "    [theme=dark] .colab-df-convert:hover {\n",
              "      background-color: #434B5C;\n",
              "      box-shadow: 0px 1px 3px 1px rgba(0, 0, 0, 0.15);\n",
              "      filter: drop-shadow(0px 1px 2px rgba(0, 0, 0, 0.3));\n",
              "      fill: #FFFFFF;\n",
              "    }\n",
              "  </style>\n",
              "\n",
              "      <script>\n",
              "        const buttonEl =\n",
              "          document.querySelector('#df-e1e487d6-650b-4ce4-807c-fd0e5dcb1cb2 button.colab-df-convert');\n",
              "        buttonEl.style.display =\n",
              "          google.colab.kernel.accessAllowed ? 'block' : 'none';\n",
              "\n",
              "        async function convertToInteractive(key) {\n",
              "          const element = document.querySelector('#df-e1e487d6-650b-4ce4-807c-fd0e5dcb1cb2');\n",
              "          const dataTable =\n",
              "            await google.colab.kernel.invokeFunction('convertToInteractive',\n",
              "                                                     [key], {});\n",
              "          if (!dataTable) return;\n",
              "\n",
              "          const docLinkHtml = 'Like what you see? Visit the ' +\n",
              "            '<a target=\"_blank\" href=https://colab.research.google.com/notebooks/data_table.ipynb>data table notebook</a>'\n",
              "            + ' to learn more about interactive tables.';\n",
              "          element.innerHTML = '';\n",
              "          dataTable['output_type'] = 'display_data';\n",
              "          await google.colab.output.renderOutput(dataTable, element);\n",
              "          const docLink = document.createElement('div');\n",
              "          docLink.innerHTML = docLinkHtml;\n",
              "          element.appendChild(docLink);\n",
              "        }\n",
              "      </script>\n",
              "    </div>\n",
              "  </div>\n",
              "  "
            ]
          },
          "metadata": {},
          "execution_count": 34
        }
      ],
      "source": [
        "# Now Add the labelCategory or clean Description\n",
        "dataset['categoryDescription'] = dataset['labelCategory'] + ' ' + dataset['cleanDescription']\n",
        "\n",
        "# Display the Dataset\n",
        "dataset.head(2)"
      ]
    },
    {
      "cell_type": "markdown",
      "source": [
        "<b>Split Data for (Training & Testing)"
      ],
      "metadata": {
        "id": "w1DduWAZSfUm"
      },
      "id": "w1DduWAZSfUm"
    },
    {
      "cell_type": "code",
      "source": [
        "# Split the Data into Train and Test\n",
        "train , test = train_test_split(dataset , test_size = 0.25)\n",
        "\n",
        "# Display the Shape of the Training & Testing Data\n",
        "print('The Shape of the Train Dataset is : {}'.format(train.shape))\n",
        "print('The Shape of the Test  Dataset is : {}'.format(test.shape))"
      ],
      "metadata": {
        "colab": {
          "base_uri": "https://localhost:8080/"
        },
        "id": "1yQH9EjDSCU2",
        "outputId": "964a2a01-4704-4e49-acaa-0fc980d401b7"
      },
      "id": "1yQH9EjDSCU2",
      "execution_count": 35,
      "outputs": [
        {
          "output_type": "stream",
          "name": "stdout",
          "text": [
            "The Shape of the Train Dataset is : (20851, 5)\n",
            "The Shape of the Test  Dataset is : (6951, 5)\n"
          ]
        }
      ]
    },
    {
      "cell_type": "markdown",
      "source": [
        "<b>FastText"
      ],
      "metadata": {
        "id": "F7E58Eu9TDzH"
      },
      "id": "F7E58Eu9TDzH"
    },
    {
      "cell_type": "code",
      "source": [
        "# Now Get the CategoryDescription Column and store in txt file\n",
        "train.to_csv('trainEcommerce.txt' , columns = ['categoryDescription'] , index = False , header = None)\n",
        "test.to_csv('testEcommerce.txt'   , columns = ['categoryDescription'] , index = False , header = None) "
      ],
      "metadata": {
        "id": "Or2hFmi2S_Dq"
      },
      "id": "Or2hFmi2S_Dq",
      "execution_count": 36,
      "outputs": []
    },
    {
      "cell_type": "code",
      "source": [
        "# Now Train the FastText Model\n",
        "model = fasttext.train_supervised(input = 'trainEcommerce.txt')\n",
        "model.test('testEcommerce.txt')"
      ],
      "metadata": {
        "id": "DHY0sWyzUCjB",
        "colab": {
          "base_uri": "https://localhost:8080/"
        },
        "outputId": "259be3b9-f6c0-46ba-f04a-e004cfef259d"
      },
      "id": "DHY0sWyzUCjB",
      "execution_count": 37,
      "outputs": [
        {
          "output_type": "execute_result",
          "data": {
            "text/plain": [
              "(6613, 0.9519128988356268, 0.9519128988356268)"
            ]
          },
          "metadata": {},
          "execution_count": 37
        }
      ]
    },
    {
      "cell_type": "markdown",
      "source": [
        "<b>Let's Predict some Result"
      ],
      "metadata": {
        "id": "9bsYM81WXTCS"
      },
      "id": "9bsYM81WXTCS"
    },
    {
      "cell_type": "code",
      "source": [
        "model.predict('wintech assemble desktop pc cpu 500 gb sata hdd 4 gb ram intel c2d processor 3')"
      ],
      "metadata": {
        "colab": {
          "base_uri": "https://localhost:8080/"
        },
        "id": "98nAWZbWXzus",
        "outputId": "9e479168-a65d-4198-fc59-377421c42d04"
      },
      "id": "98nAWZbWXzus",
      "execution_count": 38,
      "outputs": [
        {
          "output_type": "execute_result",
          "data": {
            "text/plain": [
              "(('__label__Electronics',), array([0.99856251]))"
            ]
          },
          "metadata": {},
          "execution_count": 38
        }
      ]
    },
    {
      "cell_type": "code",
      "source": [
        "model.predict(\"ockey men's cotton t shirt fabric details 80 cotton 20 polyester super combed cotton rich fabric\")"
      ],
      "metadata": {
        "colab": {
          "base_uri": "https://localhost:8080/"
        },
        "id": "ndy8LqlwYyvL",
        "outputId": "4ac2ae6e-e699-4918-db42-c6eaf52a7548"
      },
      "id": "ndy8LqlwYyvL",
      "execution_count": 40,
      "outputs": [
        {
          "output_type": "execute_result",
          "data": {
            "text/plain": [
              "(('__label__Clothing_Accessories',), array([0.99977881]))"
            ]
          },
          "metadata": {},
          "execution_count": 40
        }
      ]
    },
    {
      "cell_type": "markdown",
      "source": [
        "<b>Some Important Function of FastText "
      ],
      "metadata": {
        "id": "cIBpLb9sZEvI"
      },
      "id": "cIBpLb9sZEvI"
    },
    {
      "cell_type": "code",
      "source": [
        "model.get_nearest_neighbors('sony')"
      ],
      "metadata": {
        "id": "xHNVpzk5Y25m"
      },
      "id": "xHNVpzk5Y25m",
      "execution_count": null,
      "outputs": []
    },
    {
      "cell_type": "code",
      "source": [
        "# Get and Display the Shape of the Word Vector\n",
        "print('The Shape of the Word Vector is : {}'.format(model.get_word_vector('sony').shape))"
      ],
      "metadata": {
        "id": "oZvbsvH0ZfCD"
      },
      "id": "oZvbsvH0ZfCD",
      "execution_count": null,
      "outputs": []
    },
    {
      "cell_type": "code",
      "source": [
        "# Get the Relationship of Words\n",
        "model.get_analogies('electronic' , 'phone' , 'tv')"
      ],
      "metadata": {
        "id": "WiyHvELwZ6Ix"
      },
      "id": "WiyHvELwZ6Ix",
      "execution_count": null,
      "outputs": []
    }
  ],
  "metadata": {
    "kernelspec": {
      "display_name": "Python 3 (ipykernel)",
      "language": "python",
      "name": "python3"
    },
    "language_info": {
      "codemirror_mode": {
        "name": "ipython",
        "version": 3
      },
      "file_extension": ".py",
      "mimetype": "text/x-python",
      "name": "python",
      "nbconvert_exporter": "python",
      "pygments_lexer": "ipython3",
      "version": "3.9.12"
    },
    "colab": {
      "provenance": []
    },
    "accelerator": "GPU",
    "gpuClass": "standard"
  },
  "nbformat": 4,
  "nbformat_minor": 5
}