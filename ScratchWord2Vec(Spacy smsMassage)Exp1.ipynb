{
 "cells": [
  {
   "cell_type": "code",
   "execution_count": 57,
   "id": "6261b303",
   "metadata": {},
   "outputs": [],
   "source": [
    "import numpy as np\n",
    "import pandas as pd\n",
    "import seaborn as sns\n",
    "import matplotlib.pyplot as plt\n",
    "from tqdm import tqdm\n",
    "import gensim\n",
    "import spacy\n",
    "from spacy.lang.en.stop_words import STOP_WORDS\n",
    "from sklearn.preprocessing import LabelEncoder\n",
    "from sklearn.preprocessing import MinMaxScaler\n",
    "from sklearn.model_selection import train_test_split\n",
    "from sklearn.linear_model import LogisticRegression\n",
    "from sklearn.naive_bayes import MultinomialNB\n",
    "from sklearn.metrics import accuracy_score\n",
    "from sklearn.metrics import confusion_matrix\n",
    "from sklearn.metrics import classification_report"
   ]
  },
  {
   "cell_type": "markdown",
   "id": "d484d6d3",
   "metadata": {},
   "source": [
    "<b>Dataset"
   ]
  },
  {
   "cell_type": "code",
   "execution_count": 2,
   "id": "6fe30f2d",
   "metadata": {
    "collapsed": true
   },
   "outputs": [
    {
     "data": {
      "text/html": [
       "<div>\n",
       "<style scoped>\n",
       "    .dataframe tbody tr th:only-of-type {\n",
       "        vertical-align: middle;\n",
       "    }\n",
       "\n",
       "    .dataframe tbody tr th {\n",
       "        vertical-align: top;\n",
       "    }\n",
       "\n",
       "    .dataframe thead th {\n",
       "        text-align: right;\n",
       "    }\n",
       "</style>\n",
       "<table border=\"1\" class=\"dataframe\">\n",
       "  <thead>\n",
       "    <tr style=\"text-align: right;\">\n",
       "      <th></th>\n",
       "      <th>Category</th>\n",
       "      <th>Message</th>\n",
       "    </tr>\n",
       "  </thead>\n",
       "  <tbody>\n",
       "    <tr>\n",
       "      <th>0</th>\n",
       "      <td>ham</td>\n",
       "      <td>Go until jurong point, crazy.. Available only ...</td>\n",
       "    </tr>\n",
       "    <tr>\n",
       "      <th>1</th>\n",
       "      <td>ham</td>\n",
       "      <td>Ok lar... Joking wif u oni...</td>\n",
       "    </tr>\n",
       "  </tbody>\n",
       "</table>\n",
       "</div>"
      ],
      "text/plain": [
       "  Category                                            Message\n",
       "0      ham  Go until jurong point, crazy.. Available only ...\n",
       "1      ham                      Ok lar... Joking wif u oni..."
      ]
     },
     "execution_count": 2,
     "metadata": {},
     "output_type": "execute_result"
    }
   ],
   "source": [
    "# Read the Dataset\n",
    "dataset = pd.read_csv('spamMassages.csv')\n",
    "\n",
    "# Display the Data\n",
    "dataset.head(2)"
   ]
  },
  {
   "cell_type": "code",
   "execution_count": 3,
   "id": "c38fd0ee",
   "metadata": {},
   "outputs": [
    {
     "name": "stdout",
     "output_type": "stream",
     "text": [
      "The Shape of the Dataset is : (5572, 2)\n"
     ]
    }
   ],
   "source": [
    "# Display the Shape of the Dataset\n",
    "print('The Shape of the Dataset is : {}'.format(dataset.shape))"
   ]
  },
  {
   "cell_type": "code",
   "execution_count": 4,
   "id": "ca9f2bce",
   "metadata": {},
   "outputs": [
    {
     "name": "stdout",
     "output_type": "stream",
     "text": [
      "Category    0\n",
      "Message     0\n",
      "dtype: int64\n"
     ]
    }
   ],
   "source": [
    "# Find out the Missing Values in the Dataset\n",
    "nan_values = dataset.isnull().sum()\n",
    "print(nan_values)"
   ]
  },
  {
   "cell_type": "code",
   "execution_count": 5,
   "id": "5dd65c1f",
   "metadata": {},
   "outputs": [
    {
     "name": "stdout",
     "output_type": "stream",
     "text": [
      "Total Duplicated Row in the Dataset is : 415\n"
     ]
    }
   ],
   "source": [
    "# Find out the Duplicated Data from Dataset\n",
    "dupData = dataset.duplicated().sum()\n",
    "print('Total Duplicated Row in the Dataset is : {}'.format(dupData))"
   ]
  },
  {
   "cell_type": "code",
   "execution_count": 6,
   "id": "b2b1127c",
   "metadata": {},
   "outputs": [
    {
     "name": "stdout",
     "output_type": "stream",
     "text": [
      "Shape of the Dataset is : (5157, 2)\n"
     ]
    }
   ],
   "source": [
    "# Drop the Duplicated Data from Dataset\n",
    "dataset.drop_duplicates(inplace = True)\n",
    "\n",
    "# Display the shape After drop the Duplicated Data\n",
    "print('Shape of the Dataset is : {}'.format(dataset.shape))"
   ]
  },
  {
   "cell_type": "code",
   "execution_count": 7,
   "id": "046c5c0f",
   "metadata": {
    "collapsed": true
   },
   "outputs": [
    {
     "name": "stdout",
     "output_type": "stream",
     "text": [
      "ham     4516\n",
      "spam     641\n",
      "Name: Category, dtype: int64\n"
     ]
    }
   ],
   "source": [
    "# Count the each class label\n",
    "classLabel = dataset['Category'].value_counts()\n",
    "print(classLabel)"
   ]
  },
  {
   "cell_type": "markdown",
   "id": "99492712",
   "metadata": {},
   "source": [
    "<b> Text Pre-processing"
   ]
  },
  {
   "cell_type": "code",
   "execution_count": 8,
   "id": "c15b7356",
   "metadata": {},
   "outputs": [],
   "source": [
    "# Load the Spacy Pre-Trained Model\n",
    "nlp = spacy.load('en_core_web_sm')"
   ]
  },
  {
   "cell_type": "code",
   "execution_count": 9,
   "id": "f567c2a5",
   "metadata": {},
   "outputs": [],
   "source": [
    "def textPreprocessing(text):\n",
    "    doc = nlp(text)\n",
    "    filterTokens = []\n",
    "    \n",
    "    for token in doc:\n",
    "        if token.like_num or token.is_stop or token.is_punct:\n",
    "            continue\n",
    "        filterTokens.append(token.lemma_.lower())\n",
    "    return filterTokens"
   ]
  },
  {
   "cell_type": "code",
   "execution_count": 10,
   "id": "a52845c5",
   "metadata": {},
   "outputs": [],
   "source": [
    "# Now map the textPreprocessing funtion on Message Column\n",
    "dataset['cleanMessage'] = dataset['Message'].map(textPreprocessing)"
   ]
  },
  {
   "cell_type": "markdown",
   "id": "8083f25b",
   "metadata": {},
   "source": [
    "<b>Implementation of Word2Vec Scratch"
   ]
  },
  {
   "cell_type": "code",
   "execution_count": 11,
   "id": "c35124d9",
   "metadata": {},
   "outputs": [],
   "source": [
    "# Create the Word2Vec Model\n",
    "model = gensim.models.Word2Vec(\n",
    "    window = 6,\n",
    "    min_count = 2\n",
    ")"
   ]
  },
  {
   "cell_type": "code",
   "execution_count": 12,
   "id": "1434d4c7",
   "metadata": {},
   "outputs": [],
   "source": [
    "# Build the Vocabulary \n",
    "model.build_vocab(dataset['cleanMessage'])"
   ]
  },
  {
   "cell_type": "code",
   "execution_count": 13,
   "id": "6337e93b",
   "metadata": {},
   "outputs": [
    {
     "data": {
      "text/plain": [
       "(161709, 205325)"
      ]
     },
     "execution_count": 13,
     "metadata": {},
     "output_type": "execute_result"
    }
   ],
   "source": [
    "# Now Train the Word2Vec Model\n",
    "model.train(dataset['cleanMessage'] , total_examples = model.corpus_count , epochs = model.epochs)"
   ]
  },
  {
   "cell_type": "code",
   "execution_count": 14,
   "id": "6ae1b28d",
   "metadata": {},
   "outputs": [
    {
     "name": "stdout",
     "output_type": "stream",
     "text": [
      "The total length of the vocabulary is : 3055\n"
     ]
    }
   ],
   "source": [
    "# Now Find out the length of the Vocabulary Words\n",
    "lenVocab = len(model.wv.index_to_key)\n",
    "print('The total length of the vocabulary is : {}'.format(lenVocab))"
   ]
  },
  {
   "cell_type": "code",
   "execution_count": 15,
   "id": "2eb7d0b3",
   "metadata": {
    "collapsed": true
   },
   "outputs": [
    {
     "name": "stdout",
     "output_type": "stream",
     "text": [
      "['u', ' ', 'ur', 'go', 'come', 'not', 'know', 'good', 'get', 'ok', 'lt;#&gt', 'free', 'like', 'send', 'want', '£', 'time', 'day', 'love', 'text', 'tell', 'think', 'need', 'ü', 'lor', 'home', 'today', 'stop', 'txt', 'reply', 'r', 'n', 'hi', 'da', 'new', 'sorry', 'phone', 'ask', 'mobile', 'work', 'say', 'hope', 'week', 'night', 'hey', 'miss', 'oh', 'wait', 'thing', 'meet', 'try', 'wat', 'great', 'thank', 'leave', 'number', 'later', 'win', 'happy', 'dear', 'min', 'claim', 'way', 'message', 'find', 's', 'k', 'msg', 'let', 'pls', 'feel', 'friend', 'yeah', '+', 'right', 'e', 'babe', 'yes', 'tomorrow', 'c', 'prize', 'late', 'sleep', 'cash', 'cos', 'buy', 'd', 'pick', 'm', 'lol', 'sure', 'life', 'care', 'look', 'to', 'morning', 'b', 'call', 'finish', 'service', 'contact', 'year', 'watch', 'start', 'end', 'tonight', 'guy', 'tone', 'soon', 'money', 'talk', 'urgent', 'place', 'amp', 'mean', 'award', 'ya', 'wish', 'will', 'dun', 'nokia', 'wan', '150p', 'eat', 'take', 'smile', 'gud', 'word', 'haha', 'plan', 'chat', 'long', 'thk', 'happen', 'help', 'lot', 'check', 'early', 'pay', 'reach', 'see', 'v', 'customer', 'nice', 'stuff', 'minute', 'class', 'hour', 'month', 'man', 'bit', 'got', 'x', 'fine', 'well', 'use', 'hello', 'live', 'make', 'y', 'girl', 'bring', 'cool', 'enjoy', 'car', 'ill', 'offer', 'line', 'hear', 'u.', 'people', 'yup', 'guess', 'big', 'wake', 'weekend', 'speak', 'problem', 'job', 'yo', 'drive', 'play', 'book', 'person', 'ready', 'wanna', 'have', 'lunch', 'account', 'lar', 'show', 'draw', 'bad', 'receive', 'holiday', 'dat', 'wk', 'forget', 'house', 'liao', 'date', 'cost', 'join', 'shit', 'special', 'kiss', 'mind', 'room', 'stay', 'heart', 'dinner', 'rate', 'fuck', 'half', 'god', 'video', 'run', 'remember', 'real', 'shop', 'charge', 'sir', 'luv', 'probably', 'xxx', 'chance', 'aight', 'den', 'change', 'box', 'bed', 'worry', 'baby', 'guarantee', 'sweet', 'boy', 'ah', 'maybe', 'dunno', 'actually', 'princess', 'fun', 'leh', 'landline', 'thanx', 'little', 'walk', 'collect', 'face', 'shall', 'point', 'network', 'sms', 'bus', 'sit', '>', 'dad', 'lose', 'ringtone', 'hurt', 'pic', 'voucher', 'easy', 'tmr', 'apply', 'sound', 'po', 'i.ll', 'world', 'movie', 'mail', 'town', 'okay', 'wif', 'orange', 'school', 'camera', 'bt', 'question', 'code', 'able', 'evening', 'pm', 'pa', '150ppm', 'lesson', 'select', 'smoke', 'til', 'birthday', 'give', 'abt', 'answer', 'afternoon', 'g', 'game', 'detail', 'credit', 'test', 'important', 'juz', 'office', 'decide', 'order', 'dude', 'plus', 'price', 'hair', 'wot', 'gift', 'pound', 'alright', 'mate', 'ring', 'dis', 't&c', 'sexy', 'away', 'break', 'pain', 'haf', 'oso', 'tv', 'dream', 'await', 'head', 't', 'true', 'post', 'frnd', 'im', 'lei', 'yesterday', 'goin', 'trip', 'sch', 'food', 'ard', '10p', 'close', 'poly', 'drop', 'hav', 'online', 'spend', 'xmas', 'till', 'valid', 'tot', 'cause', 'mom', 'wonder', 'hot', 'collection', 'attempt', 'entry', 'nite', 'drink', '=', 'mob', 'club', 'weekly', 'huh', 'enter', '$', 'hold', 'read', 'noe', 'address', 'fast', 'family', 'old', 'wen', 'bored', 'colour', 'delivery', 'beautiful', 'believe', 'choose', 'age', 'treat', 'rite', 'set', 'touch', 'sell', 'player', 'double', 'de', 'national', 'awesome', 'pub', 'aft', 'uk', 'yr', 'plz', 'open', 'sad', 'mum', 'meeting', 'neva', 'die', 'hand', 'eve', 'search', 'match', 'ju', 'lt;decimal&gt', 'busy', 'content', 'expire', 'fancy', 'brother', 'wil', 'download', 'company', 'email', 'land', 'simple', 'unsubscribe', 'study', 'jus', 'sae', 'listen', 'gd', 'bank', 'chikku', 'sort', 'gr8', 'sis', 'update', 'bonus', 'crazy', 'lucky', 'statement', 'tomo', 'private', 'invite', 'tho', 'ha', 'card', 'news', 'prob', 'coz', 'carlos', 'anytime', 'cut', 'sister', 'won', 'smth', 'far', 'reason', 'boytoy', 'wonderful', 'kind', 'w', 'sun', 'music', 'catch', 'row', 'okie', 'exam', 'bill', 'shopping', 'available', 'oredi', 'hit', 'auction', 'party', '12hrs', 'college', 'log', 'wife', 'bout', 'ticket', 'fri', 'drug', 'add', 'identifier', 'wit', 'pass', 'camcorder', 'understand', 'outside', 'nope', 'hard', 'tht', 'fone', 'park', 'pretty', 'project', 'tel', 'goodmorning', 'fix', 'freemsg', 'rain', 'save', 'song', 'snow', 'suppose', 'confirm', 'unlimited', 'darlin', 'opt', 'follow', 'friday', 'keep', 'friendship', 'sea', 'gal', 'type', 'sat', 'final', 'mu', 'jay', 'uncle', 'hmm', 'valentine', 'bathe', 'finally', 'hungry', 'joke', '||', 'un', 'course', 'saturday', 'hee', 'couple', 'slow', 'mayb', 't&cs', 'film', 'mah', 'welcome', 'laugh', 'gas', 'mobileupd8', 'fr', 'knw', 'yar', 'light', 'figure', 'promise', 'area', 'moment', 'turn', 'thought', 'shower', 'return', 'visit', 'caller', 'winner', 'short', 'lovely', 'currently', 'sex', 'swing', 'ugh', 'wid', 'congrat', 'cd', 'st', 'ago', 'b4', 'value', 'balance', 'train', 'fren', 'case', 'difficult', 'cum', 'worth', 'term', 'clean', 'grin', 'quiz', 'luck', 'gym', 'direct', 'redeem', 'cheap', 'wine', 'eh', 'th', 'support', 'wow', 'march', 'rock', 'load', 'ass', 'darren', 'teach', 'photo', 'secret', 'fall', 'forgot', 'forward', 'link', 'door', 'abiola', 'motorola', 'rental', 'hospital', 'pete', 'paper', 'frm', 'warm', 'fucking', 'rent', 'monday', 'pobox', 'msgs', 'small', 'kid', 'india', 'remove', 'scream', 'weed', 'comin', 'cheer', 'idea', 'doin', 'ex', 'crave', 'ni8', 'muz', 'nyt', 'don', 'chennai', 'wana', 'extra', 'cancel', 'complete', 'computer', 'expect', 'o', 'angry', 'information', 'xx', 'story', 'congratulation', 'page', 'stand', 'laptop', 'fact', 'na', 'operator', 'wrong', 'safe', 'disturb', 'orchard', 'parent', 'usf', 'etc', 'kate', 'somebody', 'guaranteed', 'tired', 'tc', 'mm', 'voice', 'texte', 'doctor', 'write', 'fight', 'glad', 'street', 'semester', 'road', 'water', 'different', 'bath', 'eye', 'happiness', 'trust', 'sale', 'info', 'em', 'deal', 'asap', 'store', 'eg', 'complimentary', 'fantastic', 'fill', 'lady', 's.', 'forever', 'single', 'ipod', 'dogging', 'king', 'sunday', 'excuse', '2nite', 'surprise', 'hmmm', 'pray', 'correct', 'ltd', 'nah', 'christmas', 'yep', 'i.', 'hiya', 'mrng', 'mark', 'marry', 'rest', 'dog', 'net', 'excellent', 'hotel', 'lect', 'wap', 'deliver', 'lazy', 'member', 'rs', 'bb', 'waste', 'near', 'mrt', 'mr', 'meh', 'quote', 'especially', 'inform', 'kinda', 'coffee', 'm.', 'an', 'mistake', 'user', 'poor', 'wkly', 'latest', 'comp', 'lover', 'xy', 'charity', 'rakhesh', 'bcoz', 'gettin', 'blue', 'one', 'bag', 'round', 'stupid', 'access', 'sport', 'normal', 'flirt', 'remind', 'truth', 'appreciate', 'clear', 'wear', 'mo', 'todays', 'loan', 'il', 'sick', 'ts&cs', 'sign', 'noon', 'slave', 'omg', 'hurry', 'tonite', 'library', 'ar', 'j', 'arrive', 'be', 'copy', 'vl', 'workin', 'share', 'bid', 'daddy', 'tuesday', 'medical', 'summer', 'alex', 'gay', 'pc', 'present', 'anymore', 'mid', 'tampa', 'facebook', 'high', 'immediately', 'situation', 'bslvyl', 'games', 'ice', '2day', 'red', 'record', 'nigeria', 'wiv', 'usual', 'interested', 'wednesday', 'w1j6hl', 'list', 'mins', 'discount', 'reference', 'hw', 'throw', 'thinkin', 'roommate', 'weight', 'issue', 'shirt', 'joy', 'f', 'bak', 'bother', 'app', 'specially', 'dead', 'mon', 've', 'register', 'med', 'include', 'kick', 'sm', 'deep', 'lemme', 'letter', 'she.s', 'father', 'quick', 'respond', 'inside', 'result', '|', 'john', 'yahoo', 'savamob', 'din', 'sub', 'england', 'pizza', 'fat', 'al', 'tough', 'picture', 'lie', 'location', 'nxt', 'umma', 'tat', 'buck', 'cuz', 'recently', 'connection', '25p', 'ave', 'past', 'gt', 'eatin', 'file', 'system', 'bugis', 'la', 'training', 'midnight', 'battery', 'trouble', 'ntt', 'travel', 'pleasure', 'opinion', 'team', 'click', 'mp3', 'mode', 'begin', 'cell', 'honey', 'doc', 'strong', 'lead', 'arrange', 'lay', 'energy', 'cute', 'station', 'sony', 'suite342/2lands', 'goto', 'internet', 'completely', 'del', 'hop', 'black', 'receipt', 'discuss', 'gee', 'lift', 'inc', 'izzit', 'settle', 'cine', 'sec', 'depend', 'torch', 'power', 'yoga', 'realize', 'dollar', 'request', 'woman', 'imma', 'egg', 'future', 'urself', 'shuhui', 'insurance', 'bold', 'maximize', 'bird', 'hg', 'ad', 'awake', 'cold', 'bluetooth', 'tea', 'weather', 'sigh', 'reward', 'learn', 'fetch', 'funny', 'oops', 'holla', 'possible', 'kb', 'worried', 'admirer', 'hai', 'goodnight', 'put', 'matter', 'ta', 'dnt', 'mother', 'txte', 'tenerife', 'reveal', 'horny', 'moon', 'notice', 'quality', 'model', 'definitely', 'style', 'cup', 'wun', 'sense', 'suck', 'self', 'imagine', 'space', 'damn', 'key', 'omw', 'ho', 'mth', 'slowly', 'role', 'south', 'cover', 'tear', 'move', 'hug', 'buzz', 'aha', 'shd', '20p', 'instead', 'pix', 'vikky', 'barely', 'don‘t', 'consider', 'aiyo', 'attend', 'num', 'hr', 'yijue', 'track', 'hrs', 'expensive', 'representative', 'feb', 'rcvd', 'report', 'ish', 'brand', 'custcare', 'spree', 'hate', 'cc', 'contract', 'finger', 'ride', 'campus', 'ac', 'guide', 'cinema', 'cs', 'body', 'kill', 'april', 'willing', 'ge', 'coin', 'call2optout', 'freak', 'rply', 'loverboy', 'super', 'asleep', 'piss', 'air', 'indian', 'tick', 'plenty', 'boss', 'merry', 'vote', 'handset', 'cafe', 'fly', '<', 'hell', 'law', 'gap', 'weird', 'boo', 'ahmad', 'student', 'website', 'cake', 'personal', 'yay', 'r*reveal', 'sofa', 'lt;time&gt', 'straight', 'sing', 'lmao', 'armand', 'partner', 'foot', \"u're\", 'skype', 'dint', 'surely', 'usually', 'askd', 'process', 'directly', 'sup', 'bear', 'vomit', 'standard', 'budget', 'hang', 'pop', '4u', 'sunshine', 'dvd', 'sp', 'holder', 'tease', 'loyalty', 'sim', 'pussy', 'local', 'qatar', 'delete', 'fyi', 'cancer', 'realy', 'inch', 'http://www.urawinner.com', 'group', 'arm', 'stock', 'ahead', 'askin', 'seriously', 'transfer', 'ldn', 'moan', 'gb', 'jst', 'condition', 'silent', 'naughty', 'fb', 'child', 'press', 'subscription', 'hook', 'aiyah', 'tyler', 'pilate', 'lookin', 'std', 'alrite', 'large', 'exhaust', 'themob', 'ppl', 'google', 'diet', 'hide', 'goal', \"i'm\", 'iam', 'advice', 'logo', 'rise', 'meal', 'amazing', 'i‘m', 'country', 'sn', 'wet', 'name', 'activate', 'announcement', 'tuition', 'cud', 'ym', 'allow', 'january', 'white', 'er', 'choice', 'cook', 'derek', 'hostel', 'somethin', 'daily', 'adult', 'murder', 'tt', 'chinese', 'fail', 'accept', 'ru', 'mite', 'croydon', 'cr9', '5wb', 'voda', 'random', 'se', 'weak', 'dress', 'swt', 'common', 'assume', \"u've\", 'low', 'bye', 'www.getzed.co.uk', 'no1', 'mood', 'totally', 'piece', 'hill', 'rem', 'don\\x92t', 'tour', 'shoot', 'clock', 'flag', 'remain', 'decision', 'cross', 'art', 'everybody', 'star', 'meetin', 'ttyl', 'act', 'sight', 'dey', 'aftr', 'alert', 'interview', 'gentle', 'anybody', 'nvm', 'hella', 'bf', 'flight', 'prepare', 'step', 'cbe', 'fantasy', 'belly', 'naked', 'lonely', 'entitle', 'ze', 'avoid', 'flat', 'obviously', 'calls£1', 'cry', 'unable', 'mnth', 'affair', 'rd', 'cal', 'tncs', 'airport', '2optout', 'sonyericsson', \"did't\", 'bin', 'practice', 'bitch', 'ignore', 'london', 'yan', 'review', 'k.', 'hopefully', 'simply', 'password', 'beer', 'bar', 'blood', 'jiu', 'blank', '2mrw', 'current', 'yun', 'tariff', 'italian', 'geeee', 'pin', 'timing', 'celebrate', 'chase', 'regret', 'burn', 'fault', 'allah', 'pleased', 'o2', 'flower', 'darling', 'pack', 'lik', 'salary', 'boring', 'english', 'thnk', 'heavy', 'yogasana', 'boston', 'village', 'season', 'adore', 'intro', 'score', 'jazz', 'smart', 'digital', 'pple', 'bun', 'dirty', 'subscriber', 'left', 'raise', 'bowl', '3510i', 'uni', 'lick', 'relax', 'horrible', 'appointment', 'social', 'site', 'kerala', \"u'll\", 'nw', 'quit', 'ne', 'services', 'action', 'infernal', '10am-7pm', 'mono', 'age16', 'cw25wx', 'purchase', ':-p', 'confidence', 'drivin', 'journey', 'mtmsgrcvd18', 'jess', 'cha', 'www', 'waitin', 'kalli', 'subscribe', 'exciting', 'bday', 'takin', 'penny', 'sam', 'realise', 'create', 'pg', 'inclusive', 'g.', 'ure', 'arcade', 'schedule', 'mt', 'print', 'feeling', 'cuddle', 'passionate', 'exactly', 'gorgeous', 'giv', 'jen', 'twice', 'bright', 'txtauction', 'fire', 'malaria', 'improve', 'idk', 'official', 'l8r', 'aiya', 'argument', 'll', 'theatre', '1000', 'connect', 'leona', 'tones', 'centre', 'surf', 'pull', 'sha', 'bishan', 'lab', 'dry', 'push', 'selection', 'bud', '60p', 'esplanade', 'comedy', 'fit', 'marriage', 'def', 'pie', 'ron', '=d', 'grand', '1x150p', 'error', \"t's&c\", 'forum', 'stick', 'bite', 'shortly', 'pobox36504w45wq', 'afraid', 'master', 'dance', 'surprised', 'advance', 'tablet', 'vodafone', 'map', 'moby', 'sunny', 'competition', 'earth', 'vary', 'evng', 'cream', 'upto', 'package', 'queen', 'btw', 'optout', 'rule', 'bloke', 'explain', 'bedroom', 'mmm', 'hmv', 'milk', 'costa', 'thursday', 'sol', 'character', 'txts', 'basically', 'tree', 'upgrade', 'effect', 'accidentally', 'i‘ll', 'cam', 'ship', 'cat', '02/06/03', 'hip', 'wtf', 'bet', 'total', 'you:-', 'city', 'sheet', 'blow', 'nyc', 'w1', 'driving', 'legal', 'blackberry', 'hol', 'response', 'verify', 'sept', 'butt', 'sk38xh', 'sore', 'miracle', 'jesus', 'aunt', 'kano', 'dare', 'dark', 'respect', 'throat', 'machan', 'fever', 'truly', 'stamp', 'yetunde', 'roger', 'solve', 'version', 'ec2a', 'careful', 'police', 'vip', 'yrs', 'q', 'wall', 'linerental', 'acc', 'upload', 'greeting', 'release', 'apartment', \"b'day\", 'moji', 'pig', 'research', 'ruin', 'ma', 'wah', 'lecture', 'netcollex', 'hun', 'idiot', 'fry', 'captain', 'shame', 'mumtaz', 'str', 'original', 'that\\x92s', 'stone', 'spell', 'blessing', 'outta', 'lion', 'hunny', 'exact', '2moro', 'taunton', 'callertune', 'tb', 'é', 'santa', 'oni', 'oz', 'basic', 'note', 'ip4', 'gets', 'fool', 'porn', 'june', 'tm', 'abi', 'series', 'xchat', '5we', 'regard', 'embarasse', 'wylie', 'crash', 'grl', 'p', 'gram', 'rush', 'february', 'relation', 'speed', 'aiyar', 'howz', 'sugar', 'intelligent', 'www.comuk.net', 'perfect', 'xxxx', 'ive', 'ache', 'polyphonic', 'apparently', 'atm', 'ntwk', 'wkend', 'experience', 'manage', 'green', 'beg', 'bloody', 'bore', 'sura', 'leg', 'module', 'mad', 'menu', 'radio', 'profit', 'mummy', 'appt', 'pobox84', 'freephone', 'anyways', 'x.', 'tape', 'suggest', 'i\\x92m', 'argue', 'friends', 'yummy', 'shut', 'normally', 'setting', 'auto', '11mth', 'tomarrow', 'valentines', 'frndship', 'smash', 'period', 'rich', 'count', 'challenge', 'fair', 'thur', 'ray', 'footprint', 'gary', 'display', 'bat', 'plane', 'dont', 'handle', 'knock', 'seat', 'scared', 'advise', 'dresser', 'flake', 'slipper', 'spoil', 'distance', 'burger', 'crab', 'gbp', 'history', 'unique', 'august', 'recognise', 'box97n7qp', 'bell', 'reboot', 'ptbo', '150pm', 'philosophy', 'avent', 'continue', 'bx420', 'business', 'cheat', 'di', 'deliveredtomorrow', 'repeat', 'tog', 'hl', 'iouri', 'dislike', 'california', 'wc1n3xx', 'argh', 'university', 'dial', '3mins', 'teacher', 'concert', 'vry', 'wnt', 'career', 'oic', 'haiz', 'romantic', 'bottle', 'wallpaper', '087187262701.50gbp', 'mobiles', 'mtmsg18', 'si', 'parking', 'loss', 'repair', 'maintain', 'cramp', \"dsn't\", 'nan', 'previous', 'possession', 'album', 'jason', 'callback', 'morphine', 'fullonsms.com', 'prefer', 'accident', 'mile', 'wedding', 'james', 'prince', 'transaction', 'in2', 'iz', 'chechi', 'xuhui', 'quickly', \"cann't\", 'skip', 'wales', 'yor', 'scotland', 'difference', 'audition', 'diamond', 'macho', 'dubsack', 'aunty', 'symbol', '\\x96', 'prolly', 'force', 'slice', 'blah', 'china', 'inning', 'husband', 'soup', 'management', 'unredeemed', 'sry', 'block', 'citizen', 'birth', 'floor', \"ü'll\", 'carry', 'avatar', 'apologise', 'flow', 'indians', 'bloo', 'major', 'football', 'lock', 'gossip', 'shove', 'flights', 'maga', 'ikea', 'pongal', 'tooth', 'spook', 'kadeem', '3uz', 'mini', 'm26', 'enemy', 'dai', 'require', 'window', 'garage', 'upset', 'madam', 'scary', 'sky', 'gautham', 'okey', 'thangam', 'limit', 'ic', 'wrk', 'lovable', 'proof', 'gain', 'boat', 'celebration', 'occupy', 'impossible', 'female', 'lousy', 'hardcore', 'brilliant', 'flash', 'constantly', 'murderer', 'maid', 'toclaim', 'soft', 'pobox334', 'nt', 'max10min', 'stockport', 'jealous', 'provide', 'chart', 'cost£1.50', 'birla', 'december', '11mths+', 'anythin', 'spanish', 'lounge', 'luxury', 'calicut', 'fathima', 'mall', 'closed', 'uks', 'nitro', 'becoz', 'mmmm', 'petrol', 'bless', 'favourite', 'lido', 'alcohol', 'payment', 'serve', 'suite342/2land', 'gentleman', 'dignity', 'breathe', 'dearly', 'measure', 'norm', 'enuff', 'regular', 'earn', 'urgnt', 'toa', 'middle', 'ben', 'payoh', 'fml', 'lifetime', 'medicine', 'violence', 'onwards', 'natural', 'gona', 'erm', 'ham', 'freefone', 'loud', 'instruction', 'responsibility', 'incident', 'wa', 'table', 'build', 'years', 'cornwall', 'death', 'stomp', 'nearly', 'pout', 'supervisor', 'mis', 'booty', 'boost', 'steal', 'germany', 'shipping', 'escape', 'reality', 'hon', 'jog', 'www.4-tc.biz', 'vava', 'abta', 'fran', 'monthly', 'guilty', 'spare', 'painful', 'lip', 'gimme', 'sen', 'shout', 'missin', 'attach', 'cardiff', 'adventure', 'addie', 'tue', 'spring', 'stress', 'wer', 'height', 'pod', 'farm', 'paris', 'arsenal', 'skilgme', 'tis', 'recharge', '3qxj9', 'login=', '2u', 'shld', 'hint', 'option', '3d', 'norm150p', 'w45wq', 'msgrcvdhg', 'weigh', 'jan', 'bein', 'community', 'diff', 'opening', 'building', 'monkey', 'textoperator', 'euro2004', 'rose', 'nichols', '2morow', 'swim', 'headache', 'snake', 'prospect', 'dick', 'callin', 'american', 'buff', 'preferably', 'essential', 'likely', 'that‘s', 'gang', 'it‘s', 'oop', 'karaoke', 'certainly', 'beauty', 'claire', 'envelope', 'aah', '07xxxxxxxxx', 'we‘re', 'thanksgiving', 'login', 'hubby', 'minmobsmorelkpobox177hp51fl', 'nature', 'forwarded', 'postcode', 'blake', 'lotr', 'market', 'grow', 'base', '9ae', 'alfie', 'children', 'sipix', 'convey', 'chill', 'juicy', '6hrs', 'technical', 'drunk', 'thinking', 'concentrate', 'roast', 'gn', 'chillin', 'foreign', 'prey', 'd.', 'exe', 'fan', 'terrible', 'vijay', 'interesting', 'ubi', 'wind', 'ipad', 'software', 'jane', 'havin', 'www.ringtones.co.uk', 'morn', 'delay', 'anti', 'rofl', 'walmart', '3gbp', 'jordan', 'island', 'whenevr', 'remembr', 'harry', 'math', 'helen', 'fuckin', 'm8s', 'opportunity', 'reminder', 'tom', 'nap', 'virgin', 'supply', 'spk', 'meaning', 'stomach', 'second', 'xavier', 'suite', 'ppm', 'moral', 'ibiza', 'k.i', 'cust', 'unsold', 'mac', 'outstanding', 'rentl', 'taylor', 'noline', 'dload', 'java', 'videochat', 'videophones', 'talent', 'chicken', 'welp', 'tcr', 'chain', 'suffer', 'arrest', 'suntec', 'messenger', 'male', 'greet', 'fantasies', 'loose', '2morrow', 'fish', 'boye', 'behave', 'july', 'own', 's.i.m.', 'lt;3', 'fave', 'brotha', 'center', 'cock', 'develop', 'switch', 'feelin', 'lt', 'railway', 'eerie', 'event', 'tirupur', 'position', 'confuse', 'rude', '9ja', 'unsub', 'ldnw15h', 'prabha', 'doggy', 'ibhltd', 'loving', 'some1', 'box95qu', 'slide', 'generally', 'ear', 'forgive', 'dave', 'fee', 'thx', 'sufficient', 'speechless', 'ganesh', 'blanket', 'swatch', 'strike', 'freedom', '50p', 'valuable', 'i\\x92d', 'msg150p', 'recent', '2rcv', 'woke', 'replacement', 'pimple', 'zoe', 'division', 'teasing', 'replace', 'pee', 'shy', 'image', 'pen', 'secretly', 'datebox1282essexcm61xn', 'pattern', 'success', 'scratch', 'perform', 'creep', 'doubt', 'lil', 'property', 'interflora', 'finished', 'cough', '2geva', 'plm', 'yellow', 'infront', 'sheffield', 'divorce', 'frog', 'ls15hb', 'pls:-', 'hlp', 'wuld', 'topic', 'admin', 'detroit', 'visionsms.com', 'sptv', 'her.love', 'andros', 'fal', 'vth', 'eveb-', 'planet', 'removal', 'prove', 'singe', 'curry', 'sack', 'evn', 'itz', 'lookatme', '2yr', 'patty', 'goodnoon', 'agalla', 'sucker', 'fret', 'xxxxx', 'strip', 'cliff', 'randomly', 'range', 'hockey', 'sorrow', 'c52', 'euro', 'thesis', 'wkg', 'sake', 'iq', 'bruce', 'saucy', 'chest', 'slip', 'brief', 'box326', 'applebee', 'dentist', 'sleeping', 'wave', 'oi', 'disconnect', 'traffic', 'dem', 'msgs@150p', 'hm', 'interest', 'salon', 'raj', 'usc', 'lt;url&gt', 'breath', 'shore', 'wise', 'unknown', 'thgt', 'bleh', 'dr', 'superior', 'pre', 'picsfree1', 'vid', 'yck', 'ashley', 'whn', 'elaborate', 'department', 'rec', 'txtno', 'conform', 'bc', 'ltd.', 'ton', '4a', 'toshiba', 'application', 'innocent', 'mental', 'boys', '2marrow', 'buyer', 'gravity', 'carefully', 'filthy', 'fab', 'noun', 'msge', 'tiwary', 'puttin', 'www.txttowin.co.uk', 'resume', 'whr', 'agent', 'titles', 'smell', '7ish', 'cabin', 'last', 'yunny', 'name1', 'name2', 'mmmmm', 'mobno', 'scare', 'adam', '1.5p', 'sentence', '7.8p', 'relative', 'risk', 'k52', 'benefit', 'program', 'belong', 'peak', 'chip', 'addict', 'magical', 'siva', 'anniversary', 'canary', 'sum1', 'snog', 'pour', 'west', 'hv', 'tech', '2stoptxt', 'steam', 'reg', 'public', 'govt.instituition', 'sd', 'soul', 'quiet', 'cant', 'islands', 'sleepy', 'source', 'ela', 'ü.', 'amt', 'lac', 'jacket', 'mag', 'tension', 'missed', 'diwali', 'tmrw', 'taste', 'polyph', 'bang', 'sweetie', 'necklace', 'pap', 'animation', 'secretary', 'shake', 'me.i', 'bro', 'constant', 'bros', 'rice', '3lp', 'crap', 'borin', 'northampton', 'b.', 'telugu', 'abj', 'weakness', 'main', 'chocolate', 'mix', 'potential', 'trade', 'smith', 'reckon', 'theme', 'expression', 'aathi', 'otside', 'av', 'language', 'brah', 'tee', 'election', 'kappa', 'approve', 'renew', 'royal', '16+only', 'sticky', 'edward', 'co', 'indicate', 'gold', 'calculation', 'blur', 'dough', 'clothe', 'lush', 'day!2find', 'control', 'jamster', 'stalk', 'sunlight', 'profile', 'irritate', 'mokka', 'bone', 'steve', 'epsilon', 'lst', 'minmoremobsemspobox45po139wa', 'reasonable', 'tip', 'eta', 'blu', 'truffle', 'hows', 'cheese', 'pink', 'widelive.com/index', 'lionp', 'flip', 'melt', 'ground', 'eek', 'heater', 'call2optout/674', 'babes', 'ringtones', 'lionm', 'executive', 'membership', 'l8tr', 'ball', 'amy', 'literally', 'motivate', 'kothi', 'prof', 'sem', 'actual', 'sathya', 'evry', 'express', 'max£7', '\\n', 'henry', 'mountain', 'tkts', 'woot', 'donate', 'fa', 'cme', 'slept', 'sarasota', 'nat', 'cherish', 'ola', 'young', '\\t', 'infection', 'andre', '4eva', 'm227xy', 'gn:-', 'buffet', 'favorite', 'pride', 'respectful', 'garbage', 'amused', 'suggestion', 'mega', 'shu', 'warner', 'nuther', 'callers', 'birthdate', 'drinkin', 'massive', 'oru', 'melle', 'academic', 'convinced', 'coast', 'deny', 'rcv', 'knackered', 'explicit', 'deposit', 'clearly', 'subscribe6gbp', 'shoppin', '3hrs', 'stop?txtstop', 'capital', 'darle', 'dokey', 'sleepin', 'minor', 'nydc', 'deni', 'woulda', 'favour', 'miserable', 'hor', 'oreo', 'tnc', 'depressed', 'iscoming', 'edge', 'east', 'howard', 'starve', '1.50p', 'difficulty', 'sar', 'owe', 'fromm', 'phoenix', 'potter', 'ee', 'easily', 'custom', 'fear', 'sac', 'jiayin', 'pobox45w2tg150p', '2waxsto', 'tank', 'minimum', 'elaine', 'sarcastic', 'drunken', 'mess', 'l8r.', 'mb', '4fil', '/7', 'engin', 'canal', 'broad', 'mahal', 'messy', 'getting', 'wrench', 'canada', 'size', 'it\\x92s', 'tight', 'indyarocks.com', 'everyday', 'curious', 'poker', 'postcard', 'bread', 'o:-', 'spile', 'dhoni', 'mmmmmm', 'smiling:-', 'necessary', 'watever', 'durban', 'arise', 'disaster', 'speedchat', 'deus', 'reader', 'survey', 'tap', 'www.movietrivia.tv', 'neighbor', 'pende', 'vewy', 'txtin', 'despite', '4info', 'purpose', 'invest', 'swoop', 'langport', 'senthil', 'forevr', 'vegas', 'lou', '1hr', 'b\\x92day', 'rip', 'xin', 'pool', 'asked', 'refuse', 'submit', 'www.textcomp.com', 'purse', 'ful', 'atlast', 'cope', 'desert', 'section', 'funeral', 'europe', 'lib', 'creepy', 'silently', 'placement', 'rally', 'priscilla', 'wisdom', 'kent', 'vale', 'le', 'toot', 'granite', 'explosive', 'nasdaq', 'annoying', 'cdgt', 'makin', 'didn‘t', 'u!u', 'thurs', 'devour', 'partnership', 'airtel', 'pocketbabe.co.uk', 'voicemail', '2go', 'jokin', 'shahjahan', 'decimal', 'understanding', 'outage', 'apart', 'thought-', 'calling', 'superb', 'intention', 'de:-', '2wt', 'mk45', 'tones2you.co.uk', 'yeh', 'memory', 'lyfu', 'en', '2p', 'freezing', 'mel', 'h', 'peace', 'checking', 'blame', 'yell', 'hex', 'practical', 'sue', 'christma', 'ovulation', 'suzy', 'jolt', 'headin', 'vouchers', 'necessarily', 'tscs', 'lag', 'lyf', 'premium', 'arun', 'didn\\x92t', 'wee', 'propose', 'jolly', 'cartoon', 'temple', 'church', '31/10/04', 'rstm', 'jenny', 'aka', 'sw7', '3ss', 'panic', 'delhi', 'help:08712400602450p', 'wesley', 'length', 'tool', 'fringe', 'gf', 'rob', 'ke', 'dealer', 'bay', 'distract', 'impatient', 'ali', 'river', '2wks', 'cochin', 'premier', 'theory', 'shine', 'ba', 'taco', 'color', 'gender', 'convince', 'mobilesdirect', 'or2stoptxt', 'mca', 'nokia6650', '4t&ctxt', 'm8', 'mtmsg', 'ebay', 'lyk', 'upstairs', 'batch', 'nos', 'definite', 'yer', 'eng', 'box39822', 'w111wx', 'habit', 'helpline', \"you've\", 'conduct', 'gist', 'bck', 'admit', 'affection', 'textpod', 'desperate', 'function', 'childish', 'pro', '4d', 'poop', 'bcum', 'gpu', '5min', 'www.textpod.net', 'ranjith', 'ldew.com1win150ppmx3age16', '02/09/03', 'cast', 'cookie', '125gift', 'aom', 'nd', 'parco', 'deck', 'nb', 'atlanta', 'hallaq', '4mths', 'ws', 'dorm', 'restaurant', 'commercial', 'flame', 'restock', 'ny', 'paperwork', 'sux', 'caroline', 'expose', 'reading', 'jia', 'update_now', 'dine', 'custcare:08718720201', 'finance', 'degree', 'dreams', 'call09050000327', 'cali', 'tihs', 'stranger', 'privacy', 'violate', 'prepayment', 'ese', 'yuo', 'sian', 'mr.', '18yr', 'hardly', 'w1jhl', 'wild', 'uh', '10ppm', 'ey', 'knee', 'lucy', 'o.', 'telly', 'item', 'fo', '12mths', 'tayseer', 'tissco', 'joanna', 'unemployed', 'pan', 'insha', 'faggy', 'g696ga', 'pics', 'tag', 'oooh', 'audrey', 'laundry', 'rhythm', 'mei', 'underwear', 'slap', 'status', 'shag', 'wifi', 'brownie', 'geeeee', 'alive', 'gudnite', 'da:)how', '7250i', 'ag', 'planning', 'accordingly', 'shock', 'funky', 'wud', 'reaction', 'jsco', 'prompt', 'driver', 'purity', 'thread', 'useful', 'officially', 'agree', 'textbuddy', 'bristol', 'blind', 'actor', 'taxi', 'fake', 'gaytextbuddy.com', 'shocking', 'http://www.e-tlp.co.uk/expressoffer', 'dime', \"tomo?can't\", 'desparate', 'sweetheart', 'biola', '24hrs', 'auntie', 'web', 'belovd', 'suit', 'vday', 'promo', 'unfortunately', 'sarcasm', 'tsunamis', 'occur', 'recovery', ':-d', 'format', 'pa.', 'soiree', 'married', 'snowman', 'lo', 'anot', 'tahan', 'combine', 'ofice', 'cn', 'prescription', 'boyfriend', 'nit', 'electricity', 'ability', 'fujitsu', 'ques-', 'scold', 'thousand', 'flaky', 'goodo', 'sary', 'thm', 'compromise', 'wn', 'instantly', '4get', 'fav', ':d', 'randy', 'staff', 'dot', 'paragon', 'bluff', 'spl', 'girlfrnd', 'slightly', 'happend', 'vodka', 'sk3', 'somtime', '8wp', 'kg', 'wld', 'british', 'sender', 'sw73ss', 'dumb', 'warning', 'pouch', '08700621170150p', 'soo', 'kay', 'cm', 'bk', 'duchess', 'nokias', '82277.unsub', 'nahi', 'zindgi', 'jo', 'brain', 'dan', 'mojibiola', 'aww', 'stare', 'recd', 'unnecessarily', 'polys', 'stylish', 'mouth', 'halloween', 'haven\\x92t', 'kz', 'plaza', 'ultimatum', 'countin', 'aburo', 'successful', 'inconsiderate', 'nag', 'recession', 'iron', 'now.i', 'transport', 'box334sk38ch', 'crore', '07/11/04', 'ideal', 'predict', 'juan', 'lane', 'title', 'shesil', 'politician', 'castor', 'liverpool', 'donno', 'properly', 'furniture', 'peaceful', 'points', 'massage', 'oil', 'permission', 'demand', 'usb', 'gibb', 'strange', 'y.', 'acl03530150pm', 'tortilla', 'potato', 'unbelievable', 'involve', 'director', 'nasty', 'path', 'shoe', 'christ', 'activity', 'befor', 'msn', 'tirunelvali', '31p.msg@150p', 'reserve', 'anthony', 'lovejen', 'discreet', 'shot', 'spoon', 'science', 'swiss', 'tyrone', 'genius', 'ansr', 'lotta', 'lately', 'hyde', 'rgds', 'mystery', 'www.smsco.net', 'she.', 'approx', 'k:)how', 'sum', 'scrounge', 'loxahatchee', 'complain', 'dictionary', 'stayin', 'bruv', 'satisfy', 'subpoly', 'pole', 'refund', 'cld', 'cruise', 'thot', 'salam', 'ericsson', 'kindly', 'grace', 'id', '18+only', 'nic', \"did'nt\", 'parents', 'successfully', 'colleagues', 'm263uz', 'minut', 'latr', 'kidz', 'bahamas', 'colleague', 'inshah', 'visitor', 'rewarding', 'sacrifice', 'beloved', '1.50perwksub', 'e.', 'renewal', 'top', 'horo', 'faith', 'coat', 'rub', 'yest', 'determine', 'today!from', 'exeter', 'tscs087147403231winawk!age16', 'clever', 'ryan', 'mcat', 'revision', 'sooooo', 'instal', 'os', 'www.ldew.com', 'hunt', 'xam', 'silence', 'shitload', 'silver', 'nimya', 'up4', 'calm', 'ps', 'tok', 'hamster', 'cappuccino', 'prem', 'telephone', 'v.', '2morro', 'threat', 'complaint', '~', 'loveme', 'lk', 'sip', 'lov', 'comfort', '300p', 'u4', 'specific', 'easter', 'tooo', '08702840625.comuk', 'cm2', 'huge', 'upd8', 'annie', 'mailbox', 'messaging', 'retrieve', 'utter', 'hrishi', 'nothin', 'administrator', 'approach', 'studying', 'enjoyin', 'cashto', 'l', 'getstop', 'cousin', 'php', 'imp', 'neck', 'goodnite', 'bec', 'holy', 'field', 'costume', 'shelf', 'kaiez', 'ref', 'laughing', 'belive', 'borrow', 'k.k', 'slot', 'beware', 'urn', 'temp', 'handsome', 'stretch', 'galileo', 'dobby', 'spider']\n"
     ]
    }
   ],
   "source": [
    "# Now Display the Unique Words\n",
    "print(model.wv.index_to_key)"
   ]
  },
  {
   "cell_type": "code",
   "execution_count": 16,
   "id": "530f417c",
   "metadata": {
    "collapsed": true
   },
   "outputs": [
    {
     "name": "stdout",
     "output_type": "stream",
     "text": [
      "[[-0.07840784  0.14117071  0.03215149 ... -0.14029837  0.06998999\n",
      "  -0.01258824]\n",
      " [-0.08429155  0.13854551  0.04519656 ... -0.14703262  0.05663832\n",
      "  -0.0167062 ]\n",
      " [-0.0773091   0.14314237  0.02834152 ... -0.1387109   0.07182248\n",
      "  -0.01471143]\n",
      " ...\n",
      " [-0.05883862  0.1737859   0.00511504 ... -0.14217882  0.05592942\n",
      "   0.01232274]\n",
      " [-0.08435391  0.07152002  0.08947051 ... -0.18032748  0.09087936\n",
      "  -0.02828921]\n",
      " [-0.15092292  0.09624451 -0.03936766 ... -0.03205094 -0.02489112\n",
      "  -0.06085729]]\n"
     ]
    }
   ],
   "source": [
    "# Now Display all Unique Words in 2-D Numpy Array\n",
    "vector2D = model.wv.get_normed_vectors()\n",
    "print(vector2D)"
   ]
  },
  {
   "cell_type": "code",
   "execution_count": 17,
   "id": "97179b69",
   "metadata": {},
   "outputs": [
    {
     "name": "stdout",
     "output_type": "stream",
     "text": [
      "Shape of the one Word Vector is : (100,)\n"
     ]
    }
   ],
   "source": [
    "# Find out the Shape of the Vector\n",
    "needVector = model.wv.get_vector('need').shape\n",
    "print('Shape of the one Word Vector is : {}'.format(needVector))"
   ]
  },
  {
   "cell_type": "markdown",
   "id": "8fe0f41e",
   "metadata": {},
   "source": [
    "<b>AvgWord2Vec (Convert each Sentence into Vector)"
   ]
  },
  {
   "cell_type": "code",
   "execution_count": 18,
   "id": "34df8bdb",
   "metadata": {},
   "outputs": [],
   "source": [
    "def avgWord2Vec(sentence):\n",
    "    # Return the Vector of the sentence \n",
    "    return (np.mean([model.wv.get_vector(word) for word in sentence if word in model.wv.index_to_key] , axis = 0 ))"
   ]
  },
  {
   "cell_type": "code",
   "execution_count": 30,
   "id": "71f67a6d",
   "metadata": {},
   "outputs": [],
   "source": [
    "# Create the Corpus (get the tokens of the Words from Dataset)\n",
    "Corpus = list(dataset['cleanMessage'])"
   ]
  },
  {
   "cell_type": "code",
   "execution_count": 31,
   "id": "b683b152",
   "metadata": {
    "collapsed": true
   },
   "outputs": [
    {
     "name": "stderr",
     "output_type": "stream",
     "text": [
      "  0%|                                                                                         | 0/5157 [00:00<?, ?it/s]D:\\anaconda3\\lib\\site-packages\\numpy\\core\\fromnumeric.py:3440: RuntimeWarning: Mean of empty slice.\n",
      "  return _methods._mean(a, axis=axis, dtype=dtype,\n",
      "D:\\anaconda3\\lib\\site-packages\\numpy\\core\\_methods.py:189: RuntimeWarning: invalid value encountered in double_scalars\n",
      "  ret = ret.dtype.type(ret / rcount)\n",
      "100%|████████████████████████████████████████████████████████████████████████████| 5157/5157 [00:00<00:00, 5797.64it/s]\n"
     ]
    }
   ],
   "source": [
    "# Convert the Sentence into Vectors\n",
    "sentVectors = []\n",
    "for index in tqdm(range(0,len(Corpus))):\n",
    "    sentVectors.append(avgWord2Vec(Corpus[index]))"
   ]
  },
  {
   "cell_type": "code",
   "execution_count": 38,
   "id": "2be5fdbf",
   "metadata": {},
   "outputs": [],
   "source": [
    "# Now Check the Lenth of Each Vectors\n",
    "for index in range(0,len(sentVectors)):\n",
    "    if str(sentVectors[index].shape) == '()':\n",
    "        sentVectors[index] = sentVectors[0]"
   ]
  },
  {
   "cell_type": "code",
   "execution_count": 39,
   "id": "b8353fc6",
   "metadata": {
    "collapsed": true
   },
   "outputs": [
    {
     "name": "stdout",
     "output_type": "stream",
     "text": [
      "Shape of the X Matrix is : (5157, 100)\n",
      "Shape of the Y Matrix is : (5157,)\n"
     ]
    }
   ],
   "source": [
    "# Now Convert the Data into Numpy Array\n",
    "X = np.array(sentVectors)\n",
    "Y = dataset.iloc[:,0].values\n",
    "\n",
    "# Display the Shape of the X & Y Matrix\n",
    "print('Shape of the X Matrix is : {}'.format(X.shape))\n",
    "print('Shape of the Y Matrix is : {}'.format(Y.shape))"
   ]
  },
  {
   "cell_type": "code",
   "execution_count": 43,
   "id": "721e07a0",
   "metadata": {
    "collapsed": true
   },
   "outputs": [
    {
     "name": "stdout",
     "output_type": "stream",
     "text": [
      "Shape of the X Matrix is : (5157, 100)\n",
      "Shape of the Y Matrix is : (5157,)\n"
     ]
    }
   ],
   "source": [
    "# Now Stack the X Matrix\n",
    "X = np.stack(X)\n",
    "\n",
    "# convert the categorical data into numerical data\n",
    "encoder = LabelEncoder()\n",
    "Y = encoder.fit_transform(Y)\n",
    "\n",
    "# Now Display the Shape of the X & Y Matrix\n",
    "print('Shape of the X Matrix is : {}'.format(X.shape))\n",
    "print('Shape of the Y Matrix is : {}'.format(Y.shape))"
   ]
  },
  {
   "cell_type": "markdown",
   "id": "45c13c49",
   "metadata": {},
   "source": [
    "<b>Split the Data into Training & Testing"
   ]
  },
  {
   "cell_type": "code",
   "execution_count": 45,
   "id": "7d33a469",
   "metadata": {},
   "outputs": [],
   "source": [
    "# Now Split the Data\n",
    "x_train , x_test , y_train , y_test = train_test_split(X , Y , test_size = 0.25 , random_state = 42)"
   ]
  },
  {
   "cell_type": "code",
   "execution_count": 58,
   "id": "c821cbe7",
   "metadata": {},
   "outputs": [],
   "source": [
    "# Normalize the Vectors \n",
    "normalize = MinMaxScaler()\n",
    "x_train = normalize.fit_transform(x_train)\n",
    "x_test  = normalize.fit_transform(x_test)"
   ]
  },
  {
   "cell_type": "markdown",
   "id": "b8169d7c",
   "metadata": {},
   "source": [
    "<b>Machine Learning Model"
   ]
  },
  {
   "cell_type": "code",
   "execution_count": 59,
   "id": "d2e68f77",
   "metadata": {
    "collapsed": true
   },
   "outputs": [
    {
     "name": "stdout",
     "output_type": "stream",
     "text": [
      "Accuracy Score of the LR is : 0.9023255813953488\n",
      "\n"
     ]
    },
    {
     "data": {
      "image/png": "[encoded data removed]",
      "text/plain": [
       "<Figure size 432x288 with 2 Axes>"
      ]
     },
     "metadata": {
      "needs_background": "light"
     },
     "output_type": "display_data"
    }
   ],
   "source": [
    "# Model 1 (Logistic Regrssion)\n",
    "modelLR = LogisticRegression()\n",
    "modelLR.fit(x_train , y_train)\n",
    "\n",
    "# Now Predict the Results\n",
    "y_predLR = modelLR.predict(x_test)\n",
    "\n",
    "# Calculate the Accuracy Score of the LR Model\n",
    "accLR = accuracy_score(y_test , y_predLR)\n",
    "# Display the Accuracy Score of LR\n",
    "print('Accuracy Score of the LR is : {}\\n'.format(accLR))\n",
    "\n",
    "# Calculate the Confusion Matrix of the LR Model\n",
    "confLR = confusion_matrix(y_test , y_predLR)\n",
    "# Display the Confusion Matrix\n",
    "sns.heatmap(confLR , annot = True)\n",
    "plt.show()"
   ]
  },
  {
   "cell_type": "code",
   "execution_count": 60,
   "id": "465edeae",
   "metadata": {
    "collapsed": true
   },
   "outputs": [
    {
     "name": "stdout",
     "output_type": "stream",
     "text": [
      "Accuracy Score of the NB is : 0.8713178294573644\n",
      "\n"
     ]
    },
    {
     "data": {
      "image/png": "[encoded data removed]",
      "text/plain": [
       "<Figure size 432x288 with 2 Axes>"
      ]
     },
     "metadata": {
      "needs_background": "light"
     },
     "output_type": "display_data"
    }
   ],
   "source": [
    "# Model 2 (MultinomialNB)\n",
    "modelNB = MultinomialNB()\n",
    "modelNB.fit(x_train , y_train)\n",
    "\n",
    "# Now Predict the Results\n",
    "y_predNB = modelNB.predict(x_test)\n",
    "\n",
    "# Calculate the Accuracy Score of the NB Model\n",
    "accNB = accuracy_score(y_test , y_predNB)\n",
    "# Display the Accuracy Score of NB\n",
    "print('Accuracy Score of the NB is : {}\\n'.format(accNB))\n",
    "\n",
    "# Calculate the Confusion Matrix of the NB Model\n",
    "confNB = confusion_matrix(y_test , y_predNB)\n",
    "# Display the Confusion Matrix\n",
    "sns.heatmap(confNB , annot = True)\n",
    "plt.show()"
   ]
  }
 ],
 "metadata": {
  "kernelspec": {
   "display_name": "Python 3 (ipykernel)",
   "language": "python",
   "name": "python3"
  },
  "language_info": {
   "codemirror_mode": {
    "name": "ipython",
    "version": 3
   },
   "file_extension": ".py",
   "mimetype": "text/x-python",
   "name": "python",
   "nbconvert_exporter": "python",
   "pygments_lexer": "ipython3",
   "version": "3.9.12"
  }
 },
 "nbformat": 4,
 "nbformat_minor": 5
}
